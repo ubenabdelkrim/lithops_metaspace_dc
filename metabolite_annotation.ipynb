{
 "cells": [
  {
   "cell_type": "markdown",
   "metadata": {},
   "source": [
    "# Notebook setup"
   ]
  },
  {
   "cell_type": "code",
   "execution_count": null,
   "metadata": {},
   "outputs": [],
   "source": [
    "import os\n",
    "\n",
    "os.environ['AWS_ACCESS_KEY_ID'] = 'AWS_ACCESS_KEY_ID'\n",
    "os.environ['AWS_SECRET_ACCESS_KEY'] = 'AWS_SECRET_ACCESS_KEY'\n"
   ]
  },
  {
   "cell_type": "code",
   "execution_count": null,
   "metadata": {
    "ExecuteTime": {
     "end_time": "2021-01-28T11:39:25.410078Z",
     "start_time": "2021-01-28T11:39:25.347586Z"
    },
    "pycharm": {
     "metadata": false,
     "name": "#%%\n"
    }
   },
   "outputs": [],
   "source": [
    "import lithops\n",
    "from work.data_cockpit.widget import DataLoaderWidget\n",
    "\n",
    "lithops.__version__\n",
    "os.chdir('/work')"
   ]
  },
  {
   "cell_type": "code",
   "execution_count": null,
   "metadata": {},
   "outputs": [],
   "source": [
    "data_loader = DataLoaderWidget()\n",
    "\n",
    "data_loader.display()\n"
   ]
  },
  {
   "cell_type": "code",
   "execution_count": null,
   "metadata": {},
   "outputs": [],
   "source": [
    "data_slices = data_loader.get_data_slices()"
   ]
  },
  {
   "cell_type": "markdown",
   "metadata": {
    "pycharm": {
     "metadata": false
    }
   },
   "source": [
    "## Choose database"
   ]
  },
  {
   "cell_type": "code",
   "execution_count": null,
   "metadata": {
    "ExecuteTime": {
     "end_time": "2021-01-28T11:39:25.443320Z",
     "start_time": "2021-01-28T11:39:25.425014Z"
    },
    "pycharm": {
     "metadata": false,
     "name": "#%%\n"
    }
   },
   "outputs": [],
   "source": [
    "import json\n",
    "input_db = json.load(open('metabolomics/db_config1.json'))"
   ]
  },
  {
   "cell_type": "markdown",
   "metadata": {},
   "source": [
    "## a) Use a default dataset"
   ]
  },
  {
   "cell_type": "code",
   "execution_count": null,
   "metadata": {},
   "outputs": [],
   "source": [
    "input_ds = json.load(open('metabolomics/ds_config1.json'))"
   ]
  },
  {
   "cell_type": "markdown",
   "metadata": {},
   "source": [
    "## b) Choose a dataset from METASPACE instead"
   ]
  },
  {
   "cell_type": "code",
   "execution_count": null,
   "metadata": {},
   "outputs": [],
   "source": [
    "#from datasetpicker import MetaspaceBrowser, get_dataset_links, get_dataset_metadata\n",
    "#browser = MetaspaceBrowser()\n",
    "#browser"
   ]
  },
  {
   "cell_type": "code",
   "execution_count": null,
   "metadata": {},
   "outputs": [],
   "source": [
    "#browser.datasetId"
   ]
  },
  {
   "cell_type": "code",
   "execution_count": null,
   "metadata": {},
   "outputs": [],
   "source": [
    "#links = await get_dataset_links(browser.datasetId)\n",
    "#metadata = await get_dataset_metadata(browser.datasetId)"
   ]
  },
  {
   "cell_type": "code",
   "execution_count": null,
   "metadata": {},
   "outputs": [],
   "source": [
    "#input_ds = {\n",
    "#  \"name\": metadata[\"name\"],\n",
    "#  \"imzml_path\": links[0],\n",
    "#  \"ibd_path\": links[1],\n",
    "#  \"num_decoys\": 20,\n",
    "#  \"polarity\": \"+\" if metadata[\"polarity\"] == \"POSITIVE\" else \"-\",\n",
    "#  \"isocalc_sigma\": 0.000693,\n",
    "#  \"metaspace_id\": browser.datasetId\n",
    "#}"
   ]
  },
  {
   "cell_type": "markdown",
   "metadata": {},
   "source": [
    "# Setup"
   ]
  },
  {
   "cell_type": "code",
   "execution_count": null,
   "metadata": {
    "ExecuteTime": {
     "end_time": "2021-01-28T11:50:35.571526Z",
     "start_time": "2021-01-28T11:42:14.913494Z"
    },
    "pycharm": {
     "name": "#%%\n"
    }
   },
   "outputs": [],
   "source": [
    "from annotation_pipeline.pipeline import Pipeline\n",
    "\n",
    "# Process database and pre-calculate centroids (not benchmarked because usually this step is cached)\n",
    "pipeline = Pipeline(input_ds, input_db, use_db_cache=True, use_ds_cache=False, data_slices=data_slices)\n",
    "pipeline(task='db')"
   ]
  },
  {
   "cell_type": "markdown",
   "metadata": {
    "pycharm": {
     "metadata": false
    }
   },
   "source": [
    "# Run annotation pipeline"
   ]
  },
  {
   "cell_type": "code",
   "execution_count": null,
   "metadata": {
    "ExecuteTime": {
     "end_time": "2021-01-28T11:55:35.760282Z",
     "start_time": "2021-01-28T11:55:27.683235Z"
    }
   },
   "outputs": [],
   "source": [
    "from datetime import datetime\n",
    "start_time = datetime.now()\n",
    "pipeline(task='ds')\n",
    "results_df = pipeline.get_results()\n",
    "finish_time = datetime.now()"
   ]
  },
  {
   "cell_type": "code",
   "execution_count": null,
   "metadata": {
    "ExecuteTime": {
     "end_time": "2021-01-28T11:39:36.731083Z",
     "start_time": "2021-01-28T11:39:25.365Z"
    }
   },
   "outputs": [],
   "source": [
    "print('start', start_time)\n",
    "print('finish', finish_time)\n",
    "print('duration', finish_time - start_time)"
   ]
  },
  {
   "cell_type": "code",
   "execution_count": null,
   "metadata": {
    "ExecuteTime": {
     "end_time": "2021-01-28T11:39:36.731585Z",
     "start_time": "2021-01-28T11:39:25.367Z"
    }
   },
   "outputs": [],
   "source": [
    "# Display statistics file\n",
    "from annotation_pipeline.utils import PipelineStats\n",
    "PipelineStats.get()"
   ]
  },
  {
   "cell_type": "markdown",
   "metadata": {},
   "source": [
    "# Display annotations"
   ]
  },
  {
   "cell_type": "code",
   "execution_count": null,
   "metadata": {},
   "outputs": [],
   "source": [
    "# Display most annotated molecules statistics\n",
    "results_df = pipeline.get_results()\n",
    "top_mols = (results_df\n",
    "               .sort_values('msm', ascending=False)\n",
    "               .drop('database_path', axis=1)\n",
    "               .drop_duplicates(['mol','modifier','adduct']))\n",
    "top_mols.head()"
   ]
  },
  {
   "cell_type": "code",
   "execution_count": null,
   "metadata": {},
   "outputs": [],
   "source": [
    "# Download annotated molecules images\n",
    "formula_images = pipeline.get_images(as_png=False)"
   ]
  },
  {
   "cell_type": "code",
   "execution_count": null,
   "metadata": {},
   "outputs": [],
   "source": [
    "# Display most annotated molecules images\n",
    "import matplotlib.pyplot as plt\n",
    "for i, (formula_i, row) in enumerate(top_mols.head().iterrows()):\n",
    "    plt.figure(i)\n",
    "    plt.title(f'{row.mol}{row.modifier}{row.adduct} - MSM {row.msm:.3f} FDR {row.fdr*100:.0f}%')\n",
    "    plt.imshow(formula_images[formula_i][0].toarray())"
   ]
  },
  {
   "cell_type": "code",
   "execution_count": null,
   "metadata": {},
   "outputs": [],
   "source": [
    "pipeline.clean()"
   ]
  }
 ],
 "metadata": {
  "kernelspec": {
   "display_name": "Python 3",
   "language": "python",
   "name": "python3"
  },
  "language_info": {
   "codemirror_mode": {
    "name": "ipython",
    "version": 3
   },
   "file_extension": ".py",
   "mimetype": "text/x-python",
   "name": "python",
   "nbconvert_exporter": "python",
   "pygments_lexer": "ipython3",
   "version": "3.8.17"
  },
  "stem_cell": {
   "cell_type": "raw",
   "metadata": {
    "pycharm": {
     "metadata": false
    }
   },
   "source": ""
  },
  "toc": {
   "base_numbering": 1,
   "nav_menu": {},
   "number_sections": true,
   "sideBar": true,
   "skip_h1_title": false,
   "title_cell": "Table of Contents",
   "title_sidebar": "Contents",
   "toc_cell": false,
   "toc_position": {},
   "toc_section_display": true,
   "toc_window_display": false
  }
 },
 "nbformat": 4,
 "nbformat_minor": 4
}
